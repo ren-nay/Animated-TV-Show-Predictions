{
 "cells": [
  {
   "cell_type": "markdown",
   "id": "dd84bacd",
   "metadata": {},
   "source": [
    "Following this tutorial: https://medium.com/geekculture/how-to-collect-data-from-imdb-explore-it-b669f56b7dfb\n",
    "\n",
    "First make sure you have the BeautifulSoup package and the Requests package installed\n",
    "Run this in your command line: \n",
    "> pip install beautifulsoup4\n",
    "\n",
    "> pip install requests"
   ]
  },
  {
   "cell_type": "code",
   "execution_count": 6,
   "id": "d7ec934e",
   "metadata": {},
   "outputs": [],
   "source": [
    "from bs4 import BeautifulSoup\n",
    "from requests import get\n",
    "import pandas as pd\n",
    "import requests\n",
    "import re"
   ]
  },
  {
   "cell_type": "markdown",
   "id": "6dfc3278",
   "metadata": {},
   "source": [
    "Site to be Scrapped: https://www.imdb.com/search/title/?title_type=tv_series&release_date=1989-01-01,2022-12-31&genres=animation"
   ]
  },
  {
   "cell_type": "code",
   "execution_count": 8,
   "id": "c76e784a",
   "metadata": {},
   "outputs": [],
   "source": [
    "#url with link to IMDB TV Series, Animation, released between 1989 and 2022\n",
    "url = 'https://www.imdb.com/search/title/?title_type=tv_series&release_date=1989-01-01,2022-12-31&genres=animation'\n",
    "response = get(url)\n",
    "tv_soup = BeautifulSoup(response.text, 'html.parser')"
   ]
  }
 ],
 "metadata": {
  "kernelspec": {
   "display_name": "Python 3 (ipykernel)",
   "language": "python",
   "name": "python3"
  },
  "language_info": {
   "codemirror_mode": {
    "name": "ipython",
    "version": 3
   },
   "file_extension": ".py",
   "mimetype": "text/x-python",
   "name": "python",
   "nbconvert_exporter": "python",
   "pygments_lexer": "ipython3",
   "version": "3.10.7"
  }
 },
 "nbformat": 4,
 "nbformat_minor": 5
}
