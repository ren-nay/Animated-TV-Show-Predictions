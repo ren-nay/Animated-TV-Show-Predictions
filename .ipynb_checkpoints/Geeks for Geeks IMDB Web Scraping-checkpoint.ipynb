{
 "cells": [
  {
   "cell_type": "markdown",
   "id": "939042a7",
   "metadata": {},
   "source": [
    "Following this tutorial: https://www.geeksforgeeks.org/scrape-imdb-movie-rating-and-details-using-python/\n"
   ]
  },
  {
   "cell_type": "code",
   "execution_count": 339,
   "id": "7ac7b481",
   "metadata": {},
   "outputs": [],
   "source": [
    "from bs4 import BeautifulSoup\n",
    "import requests\n",
    "import re\n",
    "import pandas as pd"
   ]
  },
  {
   "cell_type": "code",
   "execution_count": 340,
   "id": "b504b2d1",
   "metadata": {},
   "outputs": [],
   "source": [
    "# Downloading imdb top 250 movie's data\n",
    "#url = 'http://www.imdb.com/chart/top'\n",
    "# 50 per page URL\n",
    "#url = 'https://www.imdb.com/search/title/?title_type=tv_series&release_date=1989-01-01,2022-12-31&genres=animation&view=advanced'\n",
    "#250 per page URL\n",
    "url = 'https://www.imdb.com/search/title/?title_type=tv_series&release_date=1989-01-01,2022-12-31&genres=animation&count=250'\n",
    "response = requests.get(url)\n",
    "soup = BeautifulSoup(response.text, \"html.parser\")"
   ]
  },
  {
   "cell_type": "code",
   "execution_count": 354,
   "id": "e58b8843",
   "metadata": {},
   "outputs": [
    {
     "data": {
      "text/plain": [
       "250"
      ]
     },
     "execution_count": 354,
     "metadata": {},
     "output_type": "execute_result"
    }
   ],
   "source": [
    "titles = [a.text for a in soup.select('.lister-item-header')]\n",
    "len(titles)"
   ]
  },
  {
   "cell_type": "code",
   "execution_count": 355,
   "id": "1768850e",
   "metadata": {},
   "outputs": [
    {
     "data": {
      "text/plain": [
       "241"
      ]
     },
     "execution_count": 355,
     "metadata": {},
     "output_type": "execute_result"
    }
   ],
   "source": [
    "uniqueId = [a.attrs.get('data-tconst') for a in soup.select('span.userRatingValue')]\n",
    "\n",
    "len(uniqueId)"
   ]
  },
  {
   "cell_type": "code",
   "execution_count": 356,
   "id": "324213ab",
   "metadata": {},
   "outputs": [
    {
     "data": {
      "text/plain": [
       "241"
      ]
     },
     "execution_count": 356,
     "metadata": {},
     "output_type": "execute_result"
    }
   ],
   "source": [
    "imdbRatings = [a.text for a in soup(\"strong\")]\n",
    "imdbRatings.pop(0)\n",
    "imdbRatings.pop(0) #pop the first two values because they are column titles, not actual ratings\n",
    "len(imdbRatings)"
   ]
  },
  {
   "cell_type": "code",
   "execution_count": 357,
   "id": "1dd04d62",
   "metadata": {},
   "outputs": [
    {
     "data": {
      "text/plain": [
       "250"
      ]
     },
     "execution_count": 357,
     "metadata": {},
     "output_type": "execute_result"
    }
   ],
   "source": [
    "runYears = [a.text for a in soup.select(\"span.lister-item-year.text-muted.unbold\")]\n",
    "len(runYears)"
   ]
  },
  {
   "cell_type": "code",
   "execution_count": 358,
   "id": "82f1d483",
   "metadata": {},
   "outputs": [
    {
     "data": {
      "text/plain": [
       "243"
      ]
     },
     "execution_count": 358,
     "metadata": {},
     "output_type": "execute_result"
    }
   ],
   "source": [
    "tvRatings = [a.text for a in soup.select(\"span.certificate\")]\n",
    "len(tvRatings)"
   ]
  },
  {
   "cell_type": "code",
   "execution_count": 360,
   "id": "1b5c0193",
   "metadata": {},
   "outputs": [
    {
     "data": {
      "text/plain": [
       "249"
      ]
     },
     "execution_count": 360,
     "metadata": {},
     "output_type": "execute_result"
    }
   ],
   "source": [
    "runtimes= []\n",
    "for a in soup.select(\"p.text-muted\"):\n",
    "    if len(a.contents) >= 5:\n",
    "        if \"runtime\" in str(a.contents[5]):\n",
    "            runtimes.append(a.contents[5].text)\n",
    "        else:\n",
    "            runtimes.append(a.contents[4])            \n",
    "len(runtimes)\n",
    "\n",
    "#no run time listed for some shows\n",
    "#need to figure out how if to put null value, or manually enter episode lengths"
   ]
  },
  {
   "cell_type": "code",
   "execution_count": 361,
   "id": "6425afd8",
   "metadata": {},
   "outputs": [
    {
     "data": {
      "text/plain": [
       "250"
      ]
     },
     "execution_count": 361,
     "metadata": {},
     "output_type": "execute_result"
    }
   ],
   "source": [
    "genres = [a.text for a in soup.select(\"span.genre\")]\n",
    "len(genres)"
   ]
  },
  {
   "cell_type": "code",
   "execution_count": 353,
   "id": "04fde8f7",
   "metadata": {},
   "outputs": [
    {
     "data": {
      "text/plain": [
       "[{'TV Show Title': 'Cyberpunk: Edgerunners',\n",
       "  'Top Genres': [' Action', ' Adventure']},\n",
       " {'TV Show Title': 'Rick and Morty', 'Top Genres': [' Adventure', ' Comedy']},\n",
       " {'TV Show Title': \"Don't Hug Me I'm Scared\",\n",
       "  'Top Genres': [' Comedy', ' Horror']},\n",
       " {'TV Show Title': 'Family Guy', 'Top Genres': [' Comedy']},\n",
       " {'TV Show Title': 'The Simpsons', 'Top Genres': [' Comedy']},\n",
       " {'TV Show Title': 'Attack on Titan', 'Top Genres': [' Action', ' Adventure']},\n",
       " {'TV Show Title': 'One Piece', 'Top Genres': [' Action', ' Adventure']},\n",
       " {'TV Show Title': 'Star Trek: Lower Decks',\n",
       "  'Top Genres': [' Action', ' Adventure']},\n",
       " {'TV Show Title': 'Arcane', 'Top Genres': [' Action', ' Adventure']},\n",
       " {'TV Show Title': 'Archer', 'Top Genres': [' Action', ' Comedy']},\n",
       " {'TV Show Title': \"Bob's Burgers\", 'Top Genres': [' Comedy']},\n",
       " {'TV Show Title': 'BoJack Horseman', 'Top Genres': [' Comedy', ' Drama']},\n",
       " {'TV Show Title': 'Harley Quinn', 'Top Genres': [' Action', ' Adventure']},\n",
       " {'TV Show Title': 'Love, Death & Robots',\n",
       "  'Top Genres': [' Short', ' Action']},\n",
       " {'TV Show Title': 'South Park', 'Top Genres': [' Comedy']},\n",
       " {'TV Show Title': 'Demon Slayer: Kimetsu no Yaiba',\n",
       "  'Top Genres': [' Action', ' Adventure']},\n",
       " {'TV Show Title': 'Avatar: The Last Airbender',\n",
       "  'Top Genres': [' Action', ' Adventure']},\n",
       " {'TV Show Title': 'Jujutsu Kaisen', 'Top Genres': [' Action', ' Adventure']},\n",
       " {'TV Show Title': 'Little Demon', 'Top Genres': [' Comedy', ' Horror']},\n",
       " {'TV Show Title': 'Star Wars: The Clone Wars',\n",
       "  'Top Genres': [' Action', ' Adventure']},\n",
       " {'TV Show Title': 'American Dad!', 'Top Genres': [' Comedy']},\n",
       " {'TV Show Title': 'Invincible', 'Top Genres': [' Action', ' Adventure']},\n",
       " {'TV Show Title': 'Futurama', 'Top Genres': [' Adventure', ' Comedy']},\n",
       " {'TV Show Title': 'SpongeBob SquarePants',\n",
       "  'Top Genres': [' Comedy', ' Family']},\n",
       " {'TV Show Title': 'Pantheon', 'Top Genres': [' Drama', ' Sci-Fi']},\n",
       " {'TV Show Title': 'My Hero Academia',\n",
       "  'Top Genres': [' Action', ' Adventure']},\n",
       " {'TV Show Title': 'Primal', 'Top Genres': [' Action', ' Adventure']},\n",
       " {'TV Show Title': 'Hunter x Hunter', 'Top Genres': [' Action', ' Adventure']},\n",
       " {'TV Show Title': \"JoJo's Bizarre Adventure\",\n",
       "  'Top Genres': [' Action', ' Adventure']},\n",
       " {'TV Show Title': 'Bee and PuppyCat', 'Top Genres': [' Short', ' Action']},\n",
       " {'TV Show Title': 'Naruto: Shippûden',\n",
       "  'Top Genres': [' Action', ' Adventure']},\n",
       " {'TV Show Title': 'Fullmetal Alchemist: Brotherhood',\n",
       "  'Top Genres': [' Action', ' Adventure']},\n",
       " {'TV Show Title': 'Bluey', 'Top Genres': [' Family']},\n",
       " {'TV Show Title': 'Adventure Time', 'Top Genres': [' Action', ' Adventure']},\n",
       " {'TV Show Title': 'Naruto', 'Top Genres': [' Action', ' Adventure']},\n",
       " {'TV Show Title': 'Death Note', 'Top Genres': [' Crime', ' Drama']},\n",
       " {'TV Show Title': 'Gravity Falls', 'Top Genres': [' Action', ' Adventure']},\n",
       " {'TV Show Title': 'SPY×FAMILY', 'Top Genres': [' Action', ' Comedy']},\n",
       " {'TV Show Title': 'Solar Opposites', 'Top Genres': [' Comedy', ' Sci-Fi']},\n",
       " {'TV Show Title': 'Big Mouth', 'Top Genres': [' Comedy', ' Romance']},\n",
       " {'TV Show Title': 'Classroom of the Elite', 'Top Genres': [' Thriller']},\n",
       " {'TV Show Title': 'Dragon Ball Z', 'Top Genres': [' Action', ' Adventure']},\n",
       " {'TV Show Title': 'The Owl House', 'Top Genres': [' Action', ' Adventure']},\n",
       " {'TV Show Title': 'Bleach', 'Top Genres': [' Action', ' Adventure']},\n",
       " {'TV Show Title': 'Star Wars: The Bad Batch',\n",
       "  'Top Genres': [' Action', ' Adventure']},\n",
       " {'TV Show Title': 'Cars on the Road',\n",
       "  'Top Genres': [' Adventure', ' Comedy']},\n",
       " {'TV Show Title': 'King of the Hill', 'Top Genres': [' Comedy', ' Drama']},\n",
       " {'TV Show Title': 'Made in Abyss', 'Top Genres': [' Action', ' Adventure']},\n",
       " {'TV Show Title': 'The Prince', 'Top Genres': [' Comedy']},\n",
       " {'TV Show Title': 'Batman: The Animated Series',\n",
       "  'Top Genres': [' Action', ' Adventure']},\n",
       " {'TV Show Title': 'One Punch Man', 'Top Genres': [' Action', ' Comedy']},\n",
       " {'TV Show Title': 'Star Wars: Rebels',\n",
       "  'Top Genres': [' Action', ' Adventure']},\n",
       " {'TV Show Title': 'I Am Groot', 'Top Genres': [' Short', ' Action']},\n",
       " {'TV Show Title': 'Castlevania', 'Top Genres': [' Action', ' Adventure']},\n",
       " {'TV Show Title': 'What If...?', 'Top Genres': [' Action', ' Adventure']},\n",
       " {'TV Show Title': 'Black Clover', 'Top Genres': [' Action', ' Adventure']},\n",
       " {'TV Show Title': 'Cowboy Bebop', 'Top Genres': [' Action', ' Adventure']},\n",
       " {'TV Show Title': 'Vinland Saga', 'Top Genres': [' Action', ' Adventure']},\n",
       " {'TV Show Title': 'Miraculous: Tales of Ladybug & Cat Noir',\n",
       "  'Top Genres': [' Action', ' Adventure']},\n",
       " {'TV Show Title': 'Final Space', 'Top Genres': [' Action', ' Adventure']},\n",
       " {'TV Show Title': 'Regular Show', 'Top Genres': [' Action', ' Adventure']},\n",
       " {'TV Show Title': 'The Legend of Vox Machina',\n",
       "  'Top Genres': [' Action', ' Adventure']},\n",
       " {'TV Show Title': 'Winx Club', 'Top Genres': [' Action', ' Adventure']},\n",
       " {'TV Show Title': 'The Great North', 'Top Genres': [' Comedy']},\n",
       " {'TV Show Title': 'Overlord', 'Top Genres': [' Action', ' Adventure']},\n",
       " {'TV Show Title': 'High School DxD', 'Top Genres': [' Action', ' Comedy']},\n",
       " {'TV Show Title': 'Pokémon', 'Top Genres': [' Action', ' Adventure']},\n",
       " {'TV Show Title': 'Boruto: Naruto Next Generations',\n",
       "  'Top Genres': [' Action', ' Adventure']},\n",
       " {'TV Show Title': 'The Wheel of Time: Origins',\n",
       "  'Top Genres': [' Drama', ' Fantasy']},\n",
       " {'TV Show Title': 'My Little Pony: Make Your Mark',\n",
       "  'Top Genres': [' Adventure', ' Comedy']},\n",
       " {'TV Show Title': 'Mob Psycho 100', 'Top Genres': [' Action', ' Comedy']},\n",
       " {'TV Show Title': 'Beavis and Butt-Head',\n",
       "  'Top Genres': [' Comedy', ' Music']},\n",
       " {'TV Show Title': 'Inside Job', 'Top Genres': [' Comedy', ' Fantasy']},\n",
       " {'TV Show Title': 'Chainsaw Man', 'Top Genres': [' Action', ' Adventure']},\n",
       " {'TV Show Title': 'Dragon Ball Super',\n",
       "  'Top Genres': [' Action', ' Adventure']},\n",
       " {'TV Show Title': 'Bastard!! Heavy Metal, Dark Fantasy',\n",
       "  'Top Genres': [' Action', ' Adventure']},\n",
       " {'TV Show Title': 'The Amazing World of Gumball',\n",
       "  'Top Genres': [' Short', ' Adventure']},\n",
       " {'TV Show Title': 'Neon Genesis Evangelion',\n",
       "  'Top Genres': [' Action', ' Drama']},\n",
       " {'TV Show Title': 'Monster', 'Top Genres': [' Crime', ' Drama']},\n",
       " {'TV Show Title': 'The Legend of Korra',\n",
       "  'Top Genres': [' Action', ' Adventure']},\n",
       " {'TV Show Title': 'Berserk', 'Top Genres': [' Action', ' Adventure']},\n",
       " {'TV Show Title': 'Summer Time Rendering',\n",
       "  'Top Genres': [' Action', ' Drama']},\n",
       " {'TV Show Title': 'Disenchantment', 'Top Genres': [' Action', ' Adventure']},\n",
       " {'TV Show Title': 'The Boondocks', 'Top Genres': [' Action', ' Comedy']},\n",
       " {'TV Show Title': 'Central Park', 'Top Genres': [' Comedy', ' Musical']},\n",
       " {'TV Show Title': 'Helluva Boss', 'Top Genres': [' Comedy', ' Crime']},\n",
       " {'TV Show Title': 'Gintama', 'Top Genres': [' Action', ' Comedy']},\n",
       " {'TV Show Title': 'Steven Universe', 'Top Genres': [' Action', ' Adventure']},\n",
       " {'TV Show Title': 'Haikyu!!', 'Top Genres': [' Comedy', ' Drama']},\n",
       " {'TV Show Title': 'Young Justice', 'Top Genres': [' Action', ' Adventure']},\n",
       " {'TV Show Title': 'Ninjago', 'Top Genres': [' Action', ' Adventure']},\n",
       " {'TV Show Title': 'Teen Titans Go!', 'Top Genres': [' Short', ' Action']},\n",
       " {'TV Show Title': 'Code Geass', 'Top Genres': [' Action', ' Drama']},\n",
       " {'TV Show Title': 'Mushoku Tensei: Jobless Reincarnation',\n",
       "  'Top Genres': [' Action', ' Adventure']},\n",
       " {'TV Show Title': 'Samurai Jack', 'Top Genres': [' Action', ' Adventure']},\n",
       " {'TV Show Title': 'Amphibia', 'Top Genres': [' Action', ' Adventure']},\n",
       " {'TV Show Title': 'Tokyo Revengers', 'Top Genres': [' Action', ' Drama']},\n",
       " {'TV Show Title': 'Undone', 'Top Genres': [' Drama', ' Fantasy']},\n",
       " {'TV Show Title': 'Steins;Gate', 'Top Genres': [' Comedy', ' Drama']},\n",
       " {'TV Show Title': 'Ben 10', 'Top Genres': [' Action', ' Adventure']},\n",
       " {'TV Show Title': 'Call of the Night', 'Top Genres': [' Comedy', ' Fantasy']},\n",
       " {'TV Show Title': 'Phineas and Ferb', 'Top Genres': [' Short', ' Action']},\n",
       " {'TV Show Title': 'PAW Patrol', 'Top Genres': [' Adventure', ' Comedy']},\n",
       " {'TV Show Title': 'Lycoris Recoil', 'Top Genres': [' Action', ' Comedy']},\n",
       " {'TV Show Title': 'Beavis and Butt-Head',\n",
       "  'Top Genres': [' Comedy', ' Music']},\n",
       " {'TV Show Title': 'The Dragon Prince',\n",
       "  'Top Genres': [' Action', ' Adventure']},\n",
       " {'TV Show Title': 'Smiling Friends', 'Top Genres': [' Short', ' Comedy']},\n",
       " {'TV Show Title': 'Kaguya-sama: Love is War',\n",
       "  'Top Genres': [' Comedy', ' Romance']},\n",
       " {'TV Show Title': 'Nanatsu no taizai',\n",
       "  'Top Genres': [' Action', ' Adventure']},\n",
       " {'TV Show Title': 'F Is for Family', 'Top Genres': [' Comedy', ' Drama']},\n",
       " {'TV Show Title': 'My Dress-Up Darling',\n",
       "  'Top Genres': [' Comedy', ' Romance']},\n",
       " {'TV Show Title': 'Teen Titans', 'Top Genres': [' Action', ' Adventure']},\n",
       " {'TV Show Title': 'Big City Greens', 'Top Genres': [' Adventure', ' Comedy']},\n",
       " {'TV Show Title': 'Teenage Mutant Ninja Turtles',\n",
       "  'Top Genres': [' Action', ' Adventure']},\n",
       " {'TV Show Title': \"Dota: Dragon's Blood\",\n",
       "  'Top Genres': [' Action', ' Adventure']},\n",
       " {'TV Show Title': 'Aoashi', 'Top Genres': [' Comedy', ' Drama']},\n",
       " {'TV Show Title': 'The Promised Neverland',\n",
       "  'Top Genres': [' Action', ' Adventure']},\n",
       " {'TV Show Title': 'Tales of the Jedi', 'Top Genres': [' Short', ' Action']},\n",
       " {'TV Show Title': 'The Cuphead Show!', 'Top Genres': [' Short', ' Action']},\n",
       " {'TV Show Title': 'Peppa Pig', 'Top Genres': [' Adventure', ' Comedy']},\n",
       " {'TV Show Title': 'Dogs in Space', 'Top Genres': [' Action', ' Adventure']},\n",
       " {'TV Show Title': 'Jurassic World: Camp Cretaceous',\n",
       "  'Top Genres': [' Action', ' Adventure']},\n",
       " {'TV Show Title': 'The Loud House', 'Top Genres': [' Short', ' Adventure']},\n",
       " {'TV Show Title': 'Robot Chicken', 'Top Genres': [' Short', ' Adventure']},\n",
       " {'TV Show Title': 'Bleach: Thousand-Year Blood War',\n",
       "  'Top Genres': [' Action', ' Adventure']},\n",
       " {'TV Show Title': 'Sword Art Online',\n",
       "  'Top Genres': [' Action', ' Adventure']},\n",
       " {'TV Show Title': 'Firebuds', 'Top Genres': [' Short', ' Action']},\n",
       " {'TV Show Title': 'Human Resources', 'Top Genres': [' Comedy', ' Romance']},\n",
       " {'TV Show Title': 'The Boys Presents: Diabolical',\n",
       "  'Top Genres': [' Short', ' Action']},\n",
       " {'TV Show Title': 'DuckTales', 'Top Genres': [' Action', ' Adventure']},\n",
       " {'TV Show Title': 'Tiana', 'Top Genres': [' Adventure', ' Comedy']},\n",
       " {'TV Show Title': 'X-Men: The Animated Series',\n",
       "  'Top Genres': [' Action', ' Adventure']},\n",
       " {'TV Show Title': 'Gargoyles', 'Top Genres': [' Action', ' Adventure']},\n",
       " {'TV Show Title': 'Star vs. the Forces of Evil',\n",
       "  'Top Genres': [' Short', ' Action']},\n",
       " {'TV Show Title': 'Re: Zero, Starting Life in Another World',\n",
       "  'Top Genres': [' Adventure', ' Drama']},\n",
       " {'TV Show Title': 'Fairy Tail', 'Top Genres': [' Action', ' Adventure']},\n",
       " {'TV Show Title': 'Is It Wrong to Try to Pick Up Girls in a Dungeon?',\n",
       "  'Top Genres': [' Action', ' Adventure']},\n",
       " {'TV Show Title': 'Tekken: Bloodline',\n",
       "  'Top Genres': [' Action', ' Adventure']},\n",
       " {'TV Show Title': 'Fullmetal Alchemist',\n",
       "  'Top Genres': [' Action', ' Adventure']},\n",
       " {'TV Show Title': 'Rise of the Teenage Mutant Ninja Turtles',\n",
       "  'Top Genres': [' Action', ' Adventure']},\n",
       " {'TV Show Title': 'Rent-a-Girlfriend', 'Top Genres': [' Comedy', ' Romance']},\n",
       " {'TV Show Title': 'Parasyte: The Maxim', 'Top Genres': [' Action', ' Drama']},\n",
       " {'TV Show Title': 'Fairly OddParents',\n",
       "  'Top Genres': [' Adventure', ' Comedy']},\n",
       " {'TV Show Title': 'Star Trek: Prodigy',\n",
       "  'Top Genres': [' Action', ' Adventure']},\n",
       " {'TV Show Title': 'Baki', 'Top Genres': [' Action', ' Drama']},\n",
       " {'TV Show Title': 'The Guardians of Justice (Will Save You!)',\n",
       "  'Top Genres': [' Action', ' Adventure']},\n",
       " {'TV Show Title': 'Vermeil in Gold: A Desperate Magician Barges Into the Magical World Alongside the Strongest Calamity',\n",
       "  'Top Genres': [' Comedy', ' Fantasy']},\n",
       " {'TV Show Title': 'Kingdom', 'Top Genres': [' Action', ' Drama']},\n",
       " {'TV Show Title': 'Spidey and His Amazing Friends',\n",
       "  'Top Genres': [' Action', ' Adventure']},\n",
       " {'TV Show Title': 'The Dark Crystal: Age of Resistance',\n",
       "  'Top Genres': [' Adventure', ' Drama']},\n",
       " {'TV Show Title': 'Spider-Man: The Animated Series',\n",
       "  'Top Genres': [' Action', ' Adventure']},\n",
       " {'TV Show Title': 'Dr. Stone', 'Top Genres': [' Action', ' Adventure']},\n",
       " {'TV Show Title': 'Star Wars: Visions',\n",
       "  'Top Genres': [' Action', ' Adventure']},\n",
       " {'TV Show Title': 'Ninjago: Masters of Spinjitzu',\n",
       "  'Top Genres': [' Action', ' Adventure']},\n",
       " {'TV Show Title': 'Assassination Classroom',\n",
       "  'Top Genres': [' Action', ' Comedy']},\n",
       " {'TV Show Title': 'Hazbin Hotel', 'Top Genres': [' Comedy', ' Crime']},\n",
       " {'TV Show Title': 'My Little Pony: Friendship Is Magic',\n",
       "  'Top Genres': [' Adventure', ' Comedy']},\n",
       " {'TV Show Title': 'Fruits Basket', 'Top Genres': [' Comedy', ' Drama']},\n",
       " {'TV Show Title': 'Detective Conan', 'Top Genres': [' Action', ' Comedy']},\n",
       " {'TV Show Title': 'Kim Possible', 'Top Genres': [' Action', ' Adventure']},\n",
       " {'TV Show Title': 'Monster High', 'Top Genres': [' Comedy', ' Family']},\n",
       " {'TV Show Title': 'Batwheels', 'Top Genres': [' Action', ' Adventure']},\n",
       " {'TV Show Title': 'Courage the Cowardly Dog',\n",
       "  'Top Genres': [' Adventure', ' Comedy']},\n",
       " {'TV Show Title': 'The Venture Bros.',\n",
       "  'Top Genres': [' Action', ' Adventure']},\n",
       " {'TV Show Title': 'Rascal Does Not Dream of Bunny Girl Senpai',\n",
       "  'Top Genres': [' Drama', ' Fantasy']},\n",
       " {'TV Show Title': 'Blade Runner: Black Lotus',\n",
       "  'Top Genres': [' Action', ' Drama']},\n",
       " {'TV Show Title': 'Akame ga Kill!', 'Top Genres': [' Action', ' Adventure']},\n",
       " {'TV Show Title': 'Your Lie in April', 'Top Genres': [' Comedy', ' Drama']},\n",
       " {'TV Show Title': 'The Midnight Gospel',\n",
       "  'Top Genres': [' Adventure', ' Comedy']},\n",
       " {'TV Show Title': 'Psycho-Pass', 'Top Genres': [' Action', ' Crime']},\n",
       " {'TV Show Title': 'Paradise PD', 'Top Genres': [' Action', ' Comedy']},\n",
       " {'TV Show Title': 'Harem in the Labyrinth of Another World',\n",
       "  'Top Genres': [' Action', ' Adventure']},\n",
       " {'TV Show Title': '86', 'Top Genres': [' Action', ' Drama']},\n",
       " {'TV Show Title': 'She-Ra and the Princesses of Power',\n",
       "  'Top Genres': [' Action', ' Adventure']},\n",
       " {'TV Show Title': 'Highschool of the Dead',\n",
       "  'Top Genres': [' Action', ' Drama']},\n",
       " {'TV Show Title': 'Ben 10: Ultimate Alien',\n",
       "  'Top Genres': [' Action', ' Adventure']},\n",
       " {'TV Show Title': 'Berserk', 'Top Genres': [' Action', ' Adventure']},\n",
       " {'TV Show Title': 'Aqua Teen Hunger Force', 'Top Genres': [' Comedy']},\n",
       " {'TV Show Title': 'The Devil Is a Part-Timer!',\n",
       "  'Top Genres': [' Action', ' Comedy']},\n",
       " {'TV Show Title': 'Scooby-Doo! Mystery Incorporated',\n",
       "  'Top Genres': [' Adventure', ' Comedy']},\n",
       " {'TV Show Title': 'Justice League', 'Top Genres': [' Action', ' Adventure']},\n",
       " {'TV Show Title': 'That Time I Got Reincarnated as a Slime',\n",
       "  'Top Genres': [' Action', ' Adventure']},\n",
       " {'TV Show Title': 'The Powerpuff Girls',\n",
       "  'Top Genres': [' Action', ' Adventure']},\n",
       " {'TV Show Title': 'Zootopia+', 'Top Genres': [' Adventure', ' Comedy']},\n",
       " {'TV Show Title': 'The Batman', 'Top Genres': [' Action', ' Adventure']},\n",
       " {'TV Show Title': 'Fire Force', 'Top Genres': [' Action', ' Drama']},\n",
       " {'TV Show Title': 'Calls', 'Top Genres': [' Drama', ' Horror']},\n",
       " {'TV Show Title': 'Justice League Unlimited',\n",
       "  'Top Genres': [' Action', ' Adventure']},\n",
       " {'TV Show Title': 'Tuca & Bertie', 'Top Genres': [' Comedy']},\n",
       " {'TV Show Title': 'Ben 10: Alien Force',\n",
       "  'Top Genres': [' Action', ' Adventure']},\n",
       " {'TV Show Title': 'Total Drama', 'Top Genres': [' Action', ' Comedy']},\n",
       " {'TV Show Title': 'ARK: The Animated Series',\n",
       "  'Top Genres': [' Action', ' Adventure']},\n",
       " {'TV Show Title': 'Darling in the Franxx',\n",
       "  'Top Genres': [' Action', ' Drama']},\n",
       " {'TV Show Title': 'Rugrats', 'Top Genres': [' Adventure', ' Comedy']},\n",
       " {'TV Show Title': 'To Your Eternity', 'Top Genres': [' Adventure', ' Drama']},\n",
       " {'TV Show Title': 'Ranking of Kings',\n",
       "  'Top Genres': [' Action', ' Adventure']},\n",
       " {'TV Show Title': 'Bee & Puppycat: Lazy in Space', 'Top Genres': []},\n",
       " {'TV Show Title': 'Dragon Ball', 'Top Genres': [' Action', ' Adventure']},\n",
       " {'TV Show Title': 'Black Lagoon', 'Top Genres': [' Action', ' Adventure']},\n",
       " {'TV Show Title': 'ReBoot', 'Top Genres': [' Action', ' Adventure']},\n",
       " {'TV Show Title': 'The Rising of the Shield Hero',\n",
       "  'Top Genres': [' Action', ' Adventure']},\n",
       " {'TV Show Title': 'Samurai Champloo',\n",
       "  'Top Genres': [' Action', ' Adventure']},\n",
       " {'TV Show Title': 'Horimiya', 'Top Genres': [' Comedy', ' Drama']},\n",
       " {'TV Show Title': 'Sofia the First', 'Top Genres': [' Adventure', ' Family']},\n",
       " {'TV Show Title': 'Baymax!', 'Top Genres': [' Short', ' Action']},\n",
       " {'TV Show Title': 'KILL la KILL', 'Top Genres': [' Action', ' Comedy']},\n",
       " {'TV Show Title': 'Rurouni Kenshin', 'Top Genres': [' Action', ' Adventure']},\n",
       " {'TV Show Title': 'Avengers Assemble',\n",
       "  'Top Genres': [' Action', ' Adventure']},\n",
       " {'TV Show Title': 'Trollhunters: Tales of Arcadia',\n",
       "  'Top Genres': [' Action', ' Adventure']},\n",
       " {'TV Show Title': 'Masters of the Universe: Revelation',\n",
       "  'Top Genres': [' Action', ' Adventure']},\n",
       " {'TV Show Title': 'Infinity Train', 'Top Genres': [' Action', ' Adventure']},\n",
       " {'TV Show Title': 'The Cleveland Show',\n",
       "  'Top Genres': [' Adventure', ' Comedy']},\n",
       " {'TV Show Title': 'Ben 10: Omniverse',\n",
       "  'Top Genres': [' Action', ' Adventure']},\n",
       " {'TV Show Title': \"Komi Can't Communicate\",\n",
       "  'Top Genres': [' Comedy', ' Drama']},\n",
       " {'TV Show Title': 'Dororo', 'Top Genres': [' Action', ' Adventure']},\n",
       " {'TV Show Title': 'Close Enough', 'Top Genres': [' Action', ' Adventure']},\n",
       " {'TV Show Title': 'Black Summoner', 'Top Genres': [' Fantasy']},\n",
       " {'TV Show Title': 'Bungou Stray Dogs', 'Top Genres': [' Action', ' Comedy']},\n",
       " {'TV Show Title': 'The Ren & Stimpy Show',\n",
       "  'Top Genres': [' Adventure', ' Comedy']},\n",
       " {'TV Show Title': 'Goblin Slayer', 'Top Genres': [' Action', ' Adventure']},\n",
       " {'TV Show Title': 'Sonic Prime', 'Top Genres': [' Action', ' Adventure']},\n",
       " {'TV Show Title': \"Blue's Clues\", 'Top Genres': [' Comedy', ' Family']},\n",
       " {'TV Show Title': 'Batman Beyond', 'Top Genres': [' Action', ' Adventure']},\n",
       " {'TV Show Title': 'Yu-Gi-Oh!', 'Top Genres': [' Action', ' Adventure']},\n",
       " {'TV Show Title': 'Uncle from Another World',\n",
       "  'Top Genres': [' Comedy', ' Fantasy']},\n",
       " {'TV Show Title': 'Recess', 'Top Genres': [' Adventure', ' Comedy']},\n",
       " {'TV Show Title': 'Army of the Dead: Lost Vegas',\n",
       "  'Top Genres': [' Action', ' Crime']},\n",
       " {'TV Show Title': 'Blood of Zeus', 'Top Genres': [' Action', ' Adventure']},\n",
       " {'TV Show Title': 'Gurren Lagann', 'Top Genres': [' Action', ' Adventure']},\n",
       " {'TV Show Title': 'Hamster & Gretel',\n",
       "  'Top Genres': [' Action', ' Adventure']},\n",
       " {'TV Show Title': 'Food Wars', 'Top Genres': [' Comedy', ' Drama']},\n",
       " {'TV Show Title': 'Hilda', 'Top Genres': [' Adventure', ' Comedy']},\n",
       " {'TV Show Title': 'The Spectacular Spider-Man',\n",
       "  'Top Genres': [' Action', ' Adventure']},\n",
       " {'TV Show Title': 'Æon Flux', 'Top Genres': [' Adventure', ' Sci-Fi']},\n",
       " {'TV Show Title': \"Gabby's Dollhouse\",\n",
       "  'Top Genres': [' Short', ' Adventure']},\n",
       " {'TV Show Title': 'Kakegurui', 'Top Genres': [' Drama', ' Mystery']},\n",
       " {'TV Show Title': 'Dragon Ball Z', 'Top Genres': [' Action', ' Adventure']},\n",
       " {'TV Show Title': 'Interspecies Reviewers',\n",
       "  'Top Genres': [' Comedy', ' Fantasy']},\n",
       " {'TV Show Title': 'Teenage Mutant Ninja Turtles',\n",
       "  'Top Genres': [' Action', ' Adventure']},\n",
       " {'TV Show Title': 'Farzar', 'Top Genres': [' Action', ' Adventure']},\n",
       " {'TV Show Title': 'Super Dragon Ball Heroes',\n",
       "  'Top Genres': [' Action', ' Adventure']},\n",
       " {'TV Show Title': 'Kung Fu Panda: The Dragon Knight',\n",
       "  'Top Genres': [' Action', ' Adventure']},\n",
       " {'TV Show Title': \"Kuroko's Basketball\", 'Top Genres': [' Comedy', ' Sport']},\n",
       " {'TV Show Title': 'The Lion Guard', 'Top Genres': [' Action', ' Adventure']},\n",
       " {'TV Show Title': 'Monsters at Work',\n",
       "  'Top Genres': [' Adventure', ' Comedy']},\n",
       " {'TV Show Title': 'Inuyasha', 'Top Genres': [' Action', ' Adventure']},\n",
       " {'TV Show Title': 'Arthur', 'Top Genres': [' Short', ' Adventure']},\n",
       " {'TV Show Title': 'Yu Yu Hakusho: Ghost Files',\n",
       "  'Top Genres': [' Action', ' Adventure']},\n",
       " {'TV Show Title': 'Dead End: Paranormal Park',\n",
       "  'Top Genres': [' Adventure', ' Comedy']},\n",
       " {'TV Show Title': 'Redo of Healer', 'Top Genres': [' Action', ' Adventure']}]"
      ]
     },
     "execution_count": 353,
     "metadata": {},
     "output_type": "execute_result"
    }
   ],
   "source": [
    "# create a empty list for storing\n",
    "# movie information\n",
    "list = []\n",
    " \n",
    "# Iterating over movies to extract\n",
    "# each movie's details\n",
    "for index in range(0, len(titles)):\n",
    "  \n",
    "    title_string = titles[index]\n",
    "    #\"\\n3.\\nDon't Hug Me I'm Scared\\n(2022– )\\n\",\n",
    "    show = title_string.split('\\n')\n",
    "    tv_show_title = show[2]\n",
    "    \n",
    "    years = show[3].split('–')\n",
    "    startYear = years[0].strip('(')\n",
    "    endYear = years[-1].strip(')') #gets the last item in the list (for some reason just asking for years[1] was wrong?)\n",
    "    \n",
    "    if \"min\" in runtimes[index]:\n",
    "        runtimes[index] = runtimes[index].strip(' min')\n",
    "    \n",
    "    showGenres = genres[index].strip()\n",
    "    genreList = showGenres.split(',') #not sure what data format is best for the genres, we can have a string with all genres, or a list of all genres\n",
    "    genreList.pop(0) #gets rid of 'Animation' genre that is always first in the list\n",
    "    \n",
    "    data = { \"TV Show Title\": tv_show_title,\n",
    "            \"Unique ID\": uniqueId[index],\n",
    "            \"IMDB Rating\": imdbRatings[index],\n",
    "            \"Start Year\": startYear,\n",
    "            \"End Year\": endYear,\n",
    "            \"TV Rating\": tvRatings[index],\n",
    "            \"Episode Run Time (min)\": runtimes[index],\n",
    "            \"Top Genres\": genreList,               \n",
    "            }\n",
    "    \n",
    "    list.append(data)\n",
    "    \n",
    "list"
   ]
  },
  {
   "cell_type": "code",
   "execution_count": null,
   "id": "93395b0c",
   "metadata": {},
   "outputs": [],
   "source": [
    "for show in list:\n",
    "    print(show['TV Rating'], '-', show['TV Show Title'], '('+show['Start Year'] +\n",
    "          ') -', 'Genres:', show['Top Genres'], show['IMDB Rating'])"
   ]
  },
  {
   "cell_type": "code",
   "execution_count": null,
   "id": "5f4ddf3b",
   "metadata": {},
   "outputs": [],
   "source": [
    "#saving the list as dataframe\n",
    "#then converting into .csv file\n",
    "df = pd.DataFrame(list)\n",
    "df.to_csv('imdb_250_animated_shows.csv',index=False)"
   ]
  },
  {
   "cell_type": "code",
   "execution_count": null,
   "id": "761d1b78",
   "metadata": {
    "scrolled": true
   },
   "outputs": [],
   "source": [
    "df.head()"
   ]
  }
 ],
 "metadata": {
  "kernelspec": {
   "display_name": "Python 3 (ipykernel)",
   "language": "python",
   "name": "python3"
  },
  "language_info": {
   "codemirror_mode": {
    "name": "ipython",
    "version": 3
   },
   "file_extension": ".py",
   "mimetype": "text/x-python",
   "name": "python",
   "nbconvert_exporter": "python",
   "pygments_lexer": "ipython3",
   "version": "3.10.7"
  }
 },
 "nbformat": 4,
 "nbformat_minor": 5
}
