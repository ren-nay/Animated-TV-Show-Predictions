{
 "cells": [
  {
   "cell_type": "markdown",
   "id": "4a5b61ab",
   "metadata": {},
   "source": [
    "Following this tutorial: https://medium.com/geekculture/how-to-collect-data-from-imdb-explore-it-b669f56b7dfb\n",
    "\n",
    "First make sure you have the BeautifulSoup package and the Requests package installed\n",
    "Run this in your command line: \n",
    "> pip install beautifulsoup4\n",
    "\n",
    "> pip install requests"
   ]
  },
  {
   "cell_type": "code",
   "execution_count": 43,
   "id": "cad8b242",
   "metadata": {},
   "outputs": [],
   "source": [
    "from bs4 import BeautifulSoup\n",
    "from requests import get\n",
    "import pandas as pd\n",
    "import requests\n",
    "import re"
   ]
  },
  {
   "cell_type": "markdown",
   "id": "49589a95",
   "metadata": {},
   "source": [
    "Site to be Scrapped: https://www.imdb.com/search/title/?title_type=tv_series&release_date=1989-01-01,2022-12-31&genres=animation"
   ]
  },
  {
   "cell_type": "code",
   "execution_count": 44,
   "id": "1d2627e8",
   "metadata": {},
   "outputs": [],
   "source": [
    "#url with link to IMDB TV Series, Animation, released between 1989 and 2022\n",
    "#url = 'https://www.imdb.com/search/title/?title_type=tv_series&release_date=1989-01-01,2022-12-31&genres=animation'\n",
    "url = \"https://www.imdb.com/chart/toptv\"\n",
    "response = get(url)\n",
    "tv_soup = BeautifulSoup(response.text, 'html.parser')"
   ]
  },
  {
   "cell_type": "markdown",
   "id": "649263f8",
   "metadata": {},
   "source": [
    "Not super sure what is happening in the cells below, so I'm just gonna follow the tutorial and see if we need to come back to this later"
   ]
  },
  {
   "cell_type": "code",
   "execution_count": 45,
   "id": "3deee015",
   "metadata": {},
   "outputs": [],
   "source": [
    "#collecting info about all the tv shows from the website\n",
    "containers = tv_soup.find_all('td', class_='titleColumn')\n",
    "\n",
    "#collecting info about the tv shows' ratings\n",
    "containers_rating = tv_soup.find_all('td', class_=\"ratingColumn imdbRating\")    "
   ]
  },
  {
   "cell_type": "code",
   "execution_count": 46,
   "id": "7e262555",
   "metadata": {},
   "outputs": [],
   "source": [
    "#listing out the ratings of the TV shows\n",
    "rating_list = []\n",
    "for i in range(len(containers_rating)):\n",
    "    rating = containers_rating[i].strong[\"title\"]\n",
    "    rating = rating[:3]\n",
    "    rating_list.append(rating)\n",
    "    \n",
    "#listing out the encoded title of all the TV shows\n",
    "tv_list = []\n",
    "for i in range(0, len(containers)):\n",
    "    title = containers[i].a['href']\n",
    "    title = title.split(\"/\")[2]\n",
    "    tv_list.append(title)"
   ]
  },
  {
   "cell_type": "code",
   "execution_count": 57,
   "id": "65781cfd",
   "metadata": {},
   "outputs": [
    {
     "ename": "IndexError",
     "evalue": "list index out of range",
     "output_type": "error",
     "traceback": [
      "\u001b[1;31m---------------------------------------------------------------------------\u001b[0m",
      "\u001b[1;31mIndexError\u001b[0m                                Traceback (most recent call last)",
      "Input \u001b[1;32mIn [57]\u001b[0m, in \u001b[0;36m<cell line: 4>\u001b[1;34m()\u001b[0m\n\u001b[0;32m     20\u001b[0m     genre \u001b[38;5;241m+\u001b[39m\u001b[38;5;241m=\u001b[39m g\u001b[38;5;241m.\u001b[39mtext \u001b[38;5;241m+\u001b[39m \u001b[38;5;124m\"\u001b[39m\u001b[38;5;124m, \u001b[39m\u001b[38;5;124m\"\u001b[39m\n\u001b[0;32m     21\u001b[0m genre \u001b[38;5;241m=\u001b[39m genre\u001b[38;5;241m.\u001b[39mstrip(\u001b[38;5;124m\"\u001b[39m\u001b[38;5;124m, \u001b[39m\u001b[38;5;124m\"\u001b[39m)\n\u001b[1;32m---> 22\u001b[0m comprehensive_list\u001b[38;5;241m.\u001b[39mappend([tv_title, rating_count, description, \u001b[43mreleaseYear\u001b[49m\u001b[43m[\u001b[49m\u001b[38;5;241;43m1\u001b[39;49m\u001b[43m]\u001b[49m, link, encoded_title, genre])\n",
      "\u001b[1;31mIndexError\u001b[0m: list index out of range"
     ]
    }
   ],
   "source": [
    "#creating a list that extracts information about each TV show such as\n",
    "#title, rating, total_votes, description, release year, its link and its encoded title\n",
    "comprehensive_list = []\n",
    "for tv in tv_list:\n",
    "    response = get('https://www.imdb.com/title' + tv + '/')\n",
    "    tv_soup = BeautifulSoup(response.text, 'html.parser')\n",
    "    title_verbose = tv_soup.find('title').string\n",
    "    releaseYear = re.findall(r'[0-9][0-9][0-9][0-9]', title_verbose)\n",
    "    tv_soup = BeautifulSoup(response.text, 'html.parser')\n",
    "    #tv_title = tv_soup.find('title').string\n",
    "    #rating = tv_soup.find(\"span\", class_ = \"AggregateRatingButton_RatingButton_RatingScore-sc-111290-1 iTLWoV\").string\n",
    "    rating_count = tv_soup.find(\"div\", class_=\"sc-7ab21ed2-3 dPVcnq\")\n",
    "    tv_title = tv_soup.find(\"h1\", {\"data-testid\": \"hero-title-block__title\"})\n",
    "    description = tv_soup.find(\"span\", {'data-testid': \"plot-xl\"})\n",
    "    link = 'https://www.imdb.com/title' + tv\n",
    "    encoded_title = tv\n",
    "    genres = tv_soup.find_all('a', class_ = \"GenresAndPlot_GenreChip-sc-cum89p-3 LKJMs ipc-chip ipc-chip--on-baseAlt\")\n",
    "    genre = \"\"\n",
    "    for g in genres:\n",
    "        genre += g.text + \", \"\n",
    "    genre = genre.strip(\", \")\n",
    "    comprehensive_list.append([tv_title, rating_count, description, releaseYear[], link, encoded_title, genre])\n"
   ]
  },
  {
   "cell_type": "code",
   "execution_count": 54,
   "id": "aa8972d4",
   "metadata": {},
   "outputs": [],
   "source": [
    "#converting comprehensive_list into a data frame\n",
    "tv_best = pd.DataFrame(comprehensive_list, columns = [\"title\", \"total_votes\", \"show_desc\", \"year\", \"link\", \"encoded_title\", \"genre\"])\n",
    "\n",
    "#saving the rating list to a column\n",
    "tv_best[\"rating\"] = rating_list\n",
    "tv_best[\"rating\"] = tv_best[\"rating\"].astype(float)\n",
    "tv_best = tv_best[[\"title\", \"rating\", \"total_votes\", \"show_desc\", \"year\", \"link\", \"genre\", \"encoded_title\"]]"
   ]
  },
  {
   "cell_type": "code",
   "execution_count": 55,
   "id": "5c502ff4",
   "metadata": {},
   "outputs": [
    {
     "data": {
      "text/html": [
       "<div>\n",
       "<style scoped>\n",
       "    .dataframe tbody tr th:only-of-type {\n",
       "        vertical-align: middle;\n",
       "    }\n",
       "\n",
       "    .dataframe tbody tr th {\n",
       "        vertical-align: top;\n",
       "    }\n",
       "\n",
       "    .dataframe thead th {\n",
       "        text-align: right;\n",
       "    }\n",
       "</style>\n",
       "<table border=\"1\" class=\"dataframe\">\n",
       "  <thead>\n",
       "    <tr style=\"text-align: right;\">\n",
       "      <th></th>\n",
       "      <th>title</th>\n",
       "      <th>rating</th>\n",
       "      <th>total_votes</th>\n",
       "      <th>show_desc</th>\n",
       "      <th>year</th>\n",
       "      <th>link</th>\n",
       "      <th>genre</th>\n",
       "      <th>encoded_title</th>\n",
       "    </tr>\n",
       "  </thead>\n",
       "  <tbody>\n",
       "    <tr>\n",
       "      <th>0</th>\n",
       "      <td>None</td>\n",
       "      <td>9.4</td>\n",
       "      <td>None</td>\n",
       "      <td>None</td>\n",
       "      <td>[]</td>\n",
       "      <td>https://www.imdb.com/titlett5491994</td>\n",
       "      <td></td>\n",
       "      <td>tt5491994</td>\n",
       "    </tr>\n",
       "    <tr>\n",
       "      <th>1</th>\n",
       "      <td>None</td>\n",
       "      <td>9.4</td>\n",
       "      <td>None</td>\n",
       "      <td>None</td>\n",
       "      <td>[]</td>\n",
       "      <td>https://www.imdb.com/titlett0903747</td>\n",
       "      <td></td>\n",
       "      <td>tt0903747</td>\n",
       "    </tr>\n",
       "    <tr>\n",
       "      <th>2</th>\n",
       "      <td>None</td>\n",
       "      <td>9.4</td>\n",
       "      <td>None</td>\n",
       "      <td>None</td>\n",
       "      <td>[]</td>\n",
       "      <td>https://www.imdb.com/titlett0795176</td>\n",
       "      <td></td>\n",
       "      <td>tt0795176</td>\n",
       "    </tr>\n",
       "    <tr>\n",
       "      <th>3</th>\n",
       "      <td>None</td>\n",
       "      <td>9.4</td>\n",
       "      <td>None</td>\n",
       "      <td>None</td>\n",
       "      <td>[]</td>\n",
       "      <td>https://www.imdb.com/titlett0185906</td>\n",
       "      <td></td>\n",
       "      <td>tt0185906</td>\n",
       "    </tr>\n",
       "    <tr>\n",
       "      <th>4</th>\n",
       "      <td>None</td>\n",
       "      <td>9.3</td>\n",
       "      <td>None</td>\n",
       "      <td>None</td>\n",
       "      <td>[]</td>\n",
       "      <td>https://www.imdb.com/titlett7366338</td>\n",
       "      <td></td>\n",
       "      <td>tt7366338</td>\n",
       "    </tr>\n",
       "  </tbody>\n",
       "</table>\n",
       "</div>"
      ],
      "text/plain": [
       "  title  rating total_votes show_desc year  \\\n",
       "0  None     9.4        None      None   []   \n",
       "1  None     9.4        None      None   []   \n",
       "2  None     9.4        None      None   []   \n",
       "3  None     9.4        None      None   []   \n",
       "4  None     9.3        None      None   []   \n",
       "\n",
       "                                  link genre encoded_title  \n",
       "0  https://www.imdb.com/titlett5491994           tt5491994  \n",
       "1  https://www.imdb.com/titlett0903747           tt0903747  \n",
       "2  https://www.imdb.com/titlett0795176           tt0795176  \n",
       "3  https://www.imdb.com/titlett0185906           tt0185906  \n",
       "4  https://www.imdb.com/titlett7366338           tt7366338  "
      ]
     },
     "execution_count": 55,
     "metadata": {},
     "output_type": "execute_result"
    }
   ],
   "source": [
    "#converting K to 000 for total votes and M to 000000 for total votes\n",
    "tv_best[\"total_votes\"] = tv_best[\"total_votes\"].str.replace(\"K\", \"000\")\n",
    "tv_best[\"total_votes\"] = tv_best[\"total_votes\"].str.replace(\"M\", \"000000\")\n",
    "\n",
    "tv_best.head()"
   ]
  }
 ],
 "metadata": {
  "kernelspec": {
   "display_name": "Python 3 (ipykernel)",
   "language": "python",
   "name": "python3"
  },
  "language_info": {
   "codemirror_mode": {
    "name": "ipython",
    "version": 3
   },
   "file_extension": ".py",
   "mimetype": "text/x-python",
   "name": "python",
   "nbconvert_exporter": "python",
   "pygments_lexer": "ipython3",
   "version": "3.10.7"
  }
 },
 "nbformat": 4,
 "nbformat_minor": 5
}
