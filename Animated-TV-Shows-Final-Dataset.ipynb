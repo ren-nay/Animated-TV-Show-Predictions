{
 "cells": [
  {
   "cell_type": "code",
   "execution_count": 3,
   "id": "98aa838d",
   "metadata": {},
   "outputs": [],
   "source": [
    "from __future__ import print_function\n",
    "import os\n",
    "import pandas as pd\n",
    "import numpy as np\n",
    "\n",
    "#Set data sets path here\n",
    "data_path = ['data']\n",
    "\n",
    "# Import the data using the file path\n",
    "dataset_1 = ['Animated-TV-Shows-With-Num-of-LGBTQ-Characters.csv']\n",
    "data_1 = os.sep.join(data_path + dataset_1)\n",
    "\n",
    "dataset_2 = ['imdb_animated_shows.csv']\n",
    "data_2 = os.sep.join(data_path + dataset_2)\n",
    "# Import data\n",
    "df = pd.read_csv(data_1)\n",
    "df2 = pd.read_csv(data_2)"
   ]
  },
  {
   "cell_type": "code",
   "execution_count": 23,
   "id": "d2cc82dd",
   "metadata": {},
   "outputs": [
    {
     "data": {
      "text/plain": [
       "<bound method NDFrame.head of                          TV Show Title   Unique ID  IMDB Rating Start Year  \\\n",
       "0                       Rick and Morty   tt2861424          9.2       2013   \n",
       "1                         Chainsaw Man  tt13616990          9.1       2022   \n",
       "2               Cyberpunk: Edgerunners  tt12590266          8.4       2022   \n",
       "3      Bleach: Thousand-Year Blood War  tt14986406          9.6       2022   \n",
       "4                         The Simpsons   tt0096697          8.7       1989   \n",
       "...                                ...         ...          ...        ...   \n",
       "11110                   A Demanda do R   tt0127372          6.0       1998   \n",
       "11127               ViR: The Robot Boy   tt8242412          3.2       2013   \n",
       "11128                            Shiva   tt8861916          1.3       2015   \n",
       "11129    6-tsugo to ouma no monogatari   tt6152658          7.0       2016   \n",
       "11131                    Pitch & Potch   tt6490194          6.8       2010   \n",
       "\n",
       "      End Year TV Rating Episode Run Time (min)                 Top Genres  \n",
       "0                  TV-14                     23  [' Adventure', ' Comedy']  \n",
       "1                  TV-MA                    NaN  [' Action', ' Adventure']  \n",
       "2                  TV-MA                     24  [' Action', ' Adventure']  \n",
       "3                  TV-MA                     24  [' Action', ' Adventure']  \n",
       "4                  TV-14                     22                [' Comedy']  \n",
       "...        ...       ...                    ...                        ...  \n",
       "11110                NaN                    NaN                [' Family']  \n",
       "11127                NaN                     30     [' Comedy', ' Family']  \n",
       "11128                NaN                     21                         []  \n",
       "11129                NaN                    NaN                         []  \n",
       "11131                NaN                    NaN                [' Family']  \n",
       "\n",
       "[7148 rows x 8 columns]>"
      ]
     },
     "execution_count": 23,
     "metadata": {},
     "output_type": "execute_result"
    }
   ],
   "source": [
    "#Drop the rows that do not have an IMDB Rating\n",
    "df2 = df2.dropna(axis=0, subset=['IMDB Rating'])\n",
    "\n",
    "df2.head"
   ]
  },
  {
   "cell_type": "code",
   "execution_count": 19,
   "id": "6979f090",
   "metadata": {},
   "outputs": [
    {
     "data": {
      "text/plain": [
       "<bound method NDFrame.head of       Unique ID                     show_title  Total Occ TV_rating  \\\n",
       "0     tt7736544       3Below: Tales of Arcadia          1     TV-Y7   \n",
       "1     tt1305826                 Adventure Time          3     TV-PG   \n",
       "2    tt11165358  Adventure Time: Distant Lands          1     TV-PG   \n",
       "3     tt1790914                  Allen Gregory          2     TV-14   \n",
       "4     tt0397306                  American Dad!          3     TV-14   \n",
       "..          ...                            ...        ...       ...   \n",
       "113   tt8009622                 Twelve Forever          4     TV-Y7   \n",
       "114   tt8146766           Victor and Valentino          1     TV-Y7   \n",
       "115   tt5580664    Voltron: Legendary Defender          3     TV-Y7   \n",
       "116   tt0383718                     W.I.T.C.H.          3     TV-Y7   \n",
       "117   tt1641384                  Young Justice          7     TV-PG   \n",
       "\n",
       "     IMDB_rating                                              genre  \n",
       "0            7.7  action, adventure, comedy, family, fantasy, sc...  \n",
       "1            8.6  action, adventure, comedy, family, fantasy, sc...  \n",
       "2            8.7  action, adventure, comedy, family, fantasy, sc...  \n",
       "3            4.1                                             comedy  \n",
       "4            7.3                                             comedy  \n",
       "..           ...                                                ...  \n",
       "113          6.4         action, adventure, comedy, family, fantasy  \n",
       "114          6.2  adventure, comedy, family, fantasy, mystery, s...  \n",
       "115          8.0  action, adventure, comedy, drama, family, fant...  \n",
       "116          7.3  action, adventure, comedy, drama, family, fant...  \n",
       "117          8.6  action, adventure, crime, romance, science fic...  \n",
       "\n",
       "[118 rows x 6 columns]>"
      ]
     },
     "execution_count": 19,
     "metadata": {},
     "output_type": "execute_result"
    }
   ],
   "source": [
    "#rename columns to match other dataset\n",
    "df.rename(columns = {'ID':'Unique ID'}, inplace = True)\n",
    "\n",
    "df.head"
   ]
  },
  {
   "cell_type": "code",
   "execution_count": 27,
   "id": "d8c6ba93",
   "metadata": {},
   "outputs": [
    {
     "data": {
      "text/plain": [
       "<bound method NDFrame.head of        Unique ID                    TV Show Title  IMDB Rating Start Year  \\\n",
       "0      tt2861424                   Rick and Morty          9.2       2013   \n",
       "1     tt13616990                     Chainsaw Man          9.1       2022   \n",
       "2     tt12590266           Cyberpunk: Edgerunners          8.4       2022   \n",
       "3     tt14986406  Bleach: Thousand-Year Blood War          9.6       2022   \n",
       "4      tt0096697                     The Simpsons          8.7       1989   \n",
       "...          ...                              ...          ...        ...   \n",
       "7143   tt0127372                   A Demanda do R          6.0       1998   \n",
       "7144   tt8242412               ViR: The Robot Boy          3.2       2013   \n",
       "7145   tt8861916                            Shiva          1.3       2015   \n",
       "7146   tt6152658    6-tsugo to ouma no monogatari          7.0       2016   \n",
       "7147   tt6490194                    Pitch & Potch          6.8       2010   \n",
       "\n",
       "     End Year TV Rating Episode Run Time (min)                 Top Genres  \\\n",
       "0                 TV-14                     23  [' Adventure', ' Comedy']   \n",
       "1                 TV-MA                    NaN  [' Action', ' Adventure']   \n",
       "2                 TV-MA                     24  [' Action', ' Adventure']   \n",
       "3                 TV-MA                     24  [' Action', ' Adventure']   \n",
       "4                 TV-14                     22                [' Comedy']   \n",
       "...       ...       ...                    ...                        ...   \n",
       "7143                NaN                    NaN                [' Family']   \n",
       "7144                NaN                     30     [' Comedy', ' Family']   \n",
       "7145                NaN                     21                         []   \n",
       "7146                NaN                    NaN                         []   \n",
       "7147                NaN                    NaN                [' Family']   \n",
       "\n",
       "      Total Occ  \n",
       "0           2.0  \n",
       "1           NaN  \n",
       "2           NaN  \n",
       "3           NaN  \n",
       "4           5.0  \n",
       "...         ...  \n",
       "7143        NaN  \n",
       "7144        NaN  \n",
       "7145        NaN  \n",
       "7146        NaN  \n",
       "7147        NaN  \n",
       "\n",
       "[7148 rows x 9 columns]>"
      ]
     },
     "execution_count": 27,
     "metadata": {},
     "output_type": "execute_result"
    }
   ],
   "source": [
    "#combine the two datasets into another dataset with only the desired columns\n",
    "df3 = df2[[\"Unique ID\", \"TV Show Title\", \"IMDB Rating\", \"Start Year\", \"End Year\", \"TV Rating\", \"Episode Run Time (min)\", \"Top Genres\"]].merge(df[[\"Unique ID\", \"Total Occ\"]], on = \"Unique ID\", how = \"left\")\n",
    "\n",
    "df3.head"
   ]
  },
  {
   "cell_type": "code",
   "execution_count": 25,
   "id": "03775296",
   "metadata": {},
   "outputs": [
    {
     "data": {
      "text/plain": [
       "<bound method NDFrame.head of        Unique ID  IMDB Rating Start Year End Year TV Rating  \\\n",
       "0      tt2861424          9.2       2013              TV-14   \n",
       "1     tt13616990          9.1       2022              TV-MA   \n",
       "2     tt12590266          8.4       2022              TV-MA   \n",
       "3     tt14986406          9.6       2022              TV-MA   \n",
       "4      tt0096697          8.7       1989              TV-14   \n",
       "...          ...          ...        ...      ...       ...   \n",
       "7143   tt0127372          6.0       1998                NaN   \n",
       "7144   tt8242412          3.2       2013                NaN   \n",
       "7145   tt8861916          1.3       2015                NaN   \n",
       "7146   tt6152658          7.0       2016                NaN   \n",
       "7147   tt6490194          6.8       2010                NaN   \n",
       "\n",
       "     Episode Run Time (min)                 Top Genres  Total Occ  \n",
       "0                        23  [' Adventure', ' Comedy']        1.0  \n",
       "1                       NaN  [' Action', ' Adventure']        3.0  \n",
       "2                        24  [' Action', ' Adventure']        1.0  \n",
       "3                        24  [' Action', ' Adventure']        2.0  \n",
       "4                        22                [' Comedy']        3.0  \n",
       "...                     ...                        ...        ...  \n",
       "7143                    NaN                [' Family']        0.0  \n",
       "7144                     30     [' Comedy', ' Family']        0.0  \n",
       "7145                     21                         []        0.0  \n",
       "7146                    NaN                         []        0.0  \n",
       "7147                    NaN                [' Family']        0.0  \n",
       "\n",
       "[7148 rows x 8 columns]>"
      ]
     },
     "execution_count": 25,
     "metadata": {},
     "output_type": "execute_result"
    }
   ],
   "source": [
    "#replace NaN values in the \"Total Occ\" column with 0\n",
    "df3['Total Occ'] = df3['Total Occ'].replace(np.nan, 0)\n",
    "\n",
    "df3.head"
   ]
  },
  {
   "cell_type": "code",
   "execution_count": 28,
   "id": "ec913ef5",
   "metadata": {},
   "outputs": [],
   "source": [
    "#Export dataset to csv\n",
    "df3.to_csv(\"Animated-TV-Shows-Final.csv\", mode='a', index=False, header=True)"
   ]
  },
  {
   "cell_type": "code",
   "execution_count": null,
   "id": "55b6bc7f",
   "metadata": {},
   "outputs": [],
   "source": []
  }
 ],
 "metadata": {
  "kernelspec": {
   "display_name": "Python 3 (ipykernel)",
   "language": "python",
   "name": "python3"
  },
  "language_info": {
   "codemirror_mode": {
    "name": "ipython",
    "version": 3
   },
   "file_extension": ".py",
   "mimetype": "text/x-python",
   "name": "python",
   "nbconvert_exporter": "python",
   "pygments_lexer": "ipython3",
   "version": "3.9.12"
  }
 },
 "nbformat": 4,
 "nbformat_minor": 5
}
