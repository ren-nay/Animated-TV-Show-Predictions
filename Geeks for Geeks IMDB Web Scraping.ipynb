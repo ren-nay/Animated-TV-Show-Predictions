{
 "cells": [
  {
   "cell_type": "markdown",
   "id": "3fd4df49",
   "metadata": {},
   "source": [
    "Following this tutorial: https://www.geeksforgeeks.org/scrape-imdb-movie-rating-and-details-using-python/\n"
   ]
  },
  {
   "cell_type": "code",
   "execution_count": 339,
   "id": "63dba72e",
   "metadata": {},
   "outputs": [],
   "source": [
    "from bs4 import BeautifulSoup\n",
    "import requests\n",
    "import re\n",
    "import pandas as pd"
   ]
  },
  {
   "cell_type": "code",
   "execution_count": 340,
   "id": "c92cf5ad",
   "metadata": {},
   "outputs": [],
   "source": [
    "# Downloading imdb top 250 movie's data\n",
    "#url = 'http://www.imdb.com/chart/top'\n",
    "# 50 per page URL\n",
    "#url = 'https://www.imdb.com/search/title/?title_type=tv_series&release_date=1989-01-01,2022-12-31&genres=animation&view=advanced'\n",
    "#250 per page URL\n",
    "url = 'https://www.imdb.com/search/title/?title_type=tv_series&release_date=1989-01-01,2022-12-31&genres=animation&count=250'\n",
    "response = requests.get(url)\n",
    "soup = BeautifulSoup(response.text, \"html.parser\")"
   ]
  },
  {
   "cell_type": "code",
   "execution_count": 354,
   "id": "b172df0d",
   "metadata": {},
   "outputs": [
    {
     "data": {
      "text/plain": [
       "250"
      ]
     },
     "execution_count": 354,
     "metadata": {},
     "output_type": "execute_result"
    }
   ],
   "source": [
    "titles = [a.text for a in soup.select('.lister-item-header')]\n",
    "len(titles)"
   ]
  },
  {
   "cell_type": "code",
   "execution_count": 355,
   "id": "e8db4faf",
   "metadata": {},
   "outputs": [
    {
     "data": {
      "text/plain": [
       "241"
      ]
     },
     "execution_count": 355,
     "metadata": {},
     "output_type": "execute_result"
    }
   ],
   "source": [
    "uniqueId = [a.attrs.get('data-tconst') for a in soup.select('span.userRatingValue')]\n",
    "\n",
    "len(uniqueId)"
   ]
  },
  {
   "cell_type": "code",
   "execution_count": 356,
   "id": "e6ec877e",
   "metadata": {},
   "outputs": [
    {
     "data": {
      "text/plain": [
       "241"
      ]
     },
     "execution_count": 356,
     "metadata": {},
     "output_type": "execute_result"
    }
   ],
   "source": [
    "imdbRatings = [a.text for a in soup(\"strong\")]\n",
    "imdbRatings.pop(0)\n",
    "imdbRatings.pop(0) #pop the first two values because they are column titles, not actual ratings\n",
    "len(imdbRatings)"
   ]
  },
  {
   "cell_type": "code",
   "execution_count": 357,
   "id": "410e83e7",
   "metadata": {},
   "outputs": [
    {
     "data": {
      "text/plain": [
       "250"
      ]
     },
     "execution_count": 357,
     "metadata": {},
     "output_type": "execute_result"
    }
   ],
   "source": [
    "runYears = [a.text for a in soup.select(\"span.lister-item-year.text-muted.unbold\")]\n",
    "len(runYears)"
   ]
  },
  {
   "cell_type": "code",
   "execution_count": 358,
   "id": "1deadc63",
   "metadata": {},
   "outputs": [
    {
     "data": {
      "text/plain": [
       "243"
      ]
     },
     "execution_count": 358,
     "metadata": {},
     "output_type": "execute_result"
    }
   ],
   "source": [
    "tvRatings = [a.text for a in soup.select(\"span.certificate\")]\n",
    "len(tvRatings)"
   ]
  },
  {
   "cell_type": "code",
   "execution_count": 360,
   "id": "4389a448",
   "metadata": {},
   "outputs": [
    {
     "data": {
      "text/plain": [
       "249"
      ]
     },
     "execution_count": 360,
     "metadata": {},
     "output_type": "execute_result"
    }
   ],
   "source": [
    "runtimes= []\n",
    "for a in soup.select(\"p.text-muted\"):\n",
    "    if len(a.contents) >= 5:\n",
    "        if \"runtime\" in str(a.contents[5]):\n",
    "            runtimes.append(a.contents[5].text)\n",
    "        else:\n",
    "            runtimes.append(a.contents[4])            \n",
    "len(runtimes)\n",
    "\n",
    "#no run time listed for some shows\n",
    "#need to figure out how if to put null value, or manually enter episode lengths"
   ]
  },
  {
   "cell_type": "code",
   "execution_count": 361,
   "id": "45b891de",
   "metadata": {},
   "outputs": [
    {
     "data": {
      "text/plain": [
       "250"
      ]
     },
     "execution_count": 361,
     "metadata": {},
     "output_type": "execute_result"
    }
   ],
   "source": [
    "genres = [a.text for a in soup.select(\"span.genre\")]\n",
    "len(genres)"
   ]
  },
  {
   "cell_type": "code",
   "execution_count": 363,
   "id": "3da04c80",
   "metadata": {},
   "outputs": [
    {
     "ename": "IndexError",
     "evalue": "list index out of range",
     "output_type": "error",
     "traceback": [
      "\u001b[1;31m---------------------------------------------------------------------------\u001b[0m",
      "\u001b[1;31mIndexError\u001b[0m                                Traceback (most recent call last)",
      "Input \u001b[1;32mIn [363]\u001b[0m, in \u001b[0;36m<cell line: 7>\u001b[1;34m()\u001b[0m\n\u001b[0;32m     22\u001b[0m     genreList \u001b[38;5;241m=\u001b[39m showGenres\u001b[38;5;241m.\u001b[39msplit(\u001b[38;5;124m'\u001b[39m\u001b[38;5;124m,\u001b[39m\u001b[38;5;124m'\u001b[39m) \u001b[38;5;66;03m#not sure what data format is best for the genres, we can have a string with all genres, or a list of all genres\u001b[39;00m\n\u001b[0;32m     23\u001b[0m     genreList\u001b[38;5;241m.\u001b[39mpop(\u001b[38;5;241m0\u001b[39m) \u001b[38;5;66;03m#gets rid of 'Animation' genre that is always first in the list\u001b[39;00m\n\u001b[0;32m     25\u001b[0m     data \u001b[38;5;241m=\u001b[39m { \u001b[38;5;124m\"\u001b[39m\u001b[38;5;124mTV Show Title\u001b[39m\u001b[38;5;124m\"\u001b[39m: tv_show_title,\n\u001b[1;32m---> 26\u001b[0m             \u001b[38;5;124m\"\u001b[39m\u001b[38;5;124mUnique ID\u001b[39m\u001b[38;5;124m\"\u001b[39m: \u001b[43muniqueId\u001b[49m\u001b[43m[\u001b[49m\u001b[43mindex\u001b[49m\u001b[43m]\u001b[49m,\n\u001b[0;32m     27\u001b[0m             \u001b[38;5;124m\"\u001b[39m\u001b[38;5;124mIMDB Rating\u001b[39m\u001b[38;5;124m\"\u001b[39m: imdbRatings[index],\n\u001b[0;32m     28\u001b[0m             \u001b[38;5;124m\"\u001b[39m\u001b[38;5;124mStart Year\u001b[39m\u001b[38;5;124m\"\u001b[39m: startYear,\n\u001b[0;32m     29\u001b[0m             \u001b[38;5;124m\"\u001b[39m\u001b[38;5;124mEnd Year\u001b[39m\u001b[38;5;124m\"\u001b[39m: endYear,\n\u001b[0;32m     30\u001b[0m             \u001b[38;5;124m\"\u001b[39m\u001b[38;5;124mTV Rating\u001b[39m\u001b[38;5;124m\"\u001b[39m: tvRatings[index],\n\u001b[0;32m     31\u001b[0m             \u001b[38;5;124m\"\u001b[39m\u001b[38;5;124mEpisode Run Time (min)\u001b[39m\u001b[38;5;124m\"\u001b[39m: runtimes[index],\n\u001b[0;32m     32\u001b[0m             \u001b[38;5;124m\"\u001b[39m\u001b[38;5;124mTop Genres\u001b[39m\u001b[38;5;124m\"\u001b[39m: genreList,               \n\u001b[0;32m     33\u001b[0m             }\n\u001b[0;32m     35\u001b[0m     \u001b[38;5;28mlist\u001b[39m\u001b[38;5;241m.\u001b[39mappend(data)\n\u001b[0;32m     37\u001b[0m \u001b[38;5;28mlist\u001b[39m\n",
      "\u001b[1;31mIndexError\u001b[0m: list index out of range"
     ]
    }
   ],
   "source": [
    "# create a empty list for storing\n",
    "# movie information\n",
    "list = []\n",
    " \n",
    "# Iterating over movies to extract\n",
    "# each movie's details\n",
    "for index in range(0, len(titles)):\n",
    "  \n",
    "    title_string = titles[index]\n",
    "    #\"\\n3.\\nDon't Hug Me I'm Scared\\n(2022– )\\n\",\n",
    "    show = title_string.split('\\n')\n",
    "    tv_show_title = show[2]\n",
    "    \n",
    "    years = show[3].split('–')\n",
    "    startYear = years[0].strip('(')\n",
    "    endYear = years[-1].strip(')') #gets the last item in the list (for some reason just asking for years[1] was wrong?)\n",
    "    \n",
    "    if \"min\" in runtimes[index]:\n",
    "        runtimes[index] = runtimes[index].strip(' min')\n",
    "    \n",
    "    showGenres = genres[index].strip()\n",
    "    genreList = showGenres.split(',') #not sure what data format is best for the genres, we can have a string with all genres, or a list of all genres\n",
    "    genreList.pop(0) #gets rid of 'Animation' genre that is always first in the list\n",
    "    \n",
    "    data = { \"TV Show Title\": tv_show_title,\n",
    "            \"Unique ID\": uniqueId[index],\n",
    "            \"IMDB Rating\": imdbRatings[index],\n",
    "            \"Start Year\": startYear,\n",
    "            \"End Year\": endYear,\n",
    "            \"TV Rating\": tvRatings[index],\n",
    "            \"Episode Run Time (min)\": runtimes[index],\n",
    "            \"Top Genres\": genreList,               \n",
    "            }\n",
    "    \n",
    "    list.append(data)\n",
    "    \n",
    "list"
   ]
  },
  {
   "cell_type": "code",
   "execution_count": null,
   "id": "c9c03aca",
   "metadata": {},
   "outputs": [],
   "source": [
    "for show in list:\n",
    "    print(show['TV Rating'], '-', show['TV Show Title'], '('+show['Start Year'] +\n",
    "          ') -', 'Genres:', show['Top Genres'], show['IMDB Rating'])"
   ]
  },
  {
   "cell_type": "code",
   "execution_count": null,
   "id": "ceda66d7",
   "metadata": {},
   "outputs": [],
   "source": [
    "#saving the list as dataframe\n",
    "#then converting into .csv file\n",
    "df = pd.DataFrame(list)\n",
    "df.to_csv('imdb_250_animated_shows.csv',index=False)"
   ]
  },
  {
   "cell_type": "code",
   "execution_count": null,
   "id": "920b795a",
   "metadata": {
    "scrolled": true
   },
   "outputs": [],
   "source": [
    "df.head()"
   ]
  }
 ],
 "metadata": {
  "kernelspec": {
   "display_name": "Python 3 (ipykernel)",
   "language": "python",
   "name": "python3"
  },
  "language_info": {
   "codemirror_mode": {
    "name": "ipython",
    "version": 3
   },
   "file_extension": ".py",
   "mimetype": "text/x-python",
   "name": "python",
   "nbconvert_exporter": "python",
   "pygments_lexer": "ipython3",
   "version": "3.10.7"
  }
 },
 "nbformat": 4,
 "nbformat_minor": 5
}
