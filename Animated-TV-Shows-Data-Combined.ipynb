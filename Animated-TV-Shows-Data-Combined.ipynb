{
 "cells": [
  {
   "cell_type": "code",
   "execution_count": 1,
   "id": "5503e5cf",
   "metadata": {},
   "outputs": [],
   "source": [
    "from __future__ import print_function\n",
    "import os\n",
    "import pandas as pd\n",
    "\n",
    "#Set data sets path here\n",
    "data_path = ['data']\n",
    "\n",
    "# Import the data using the file path\n",
    "dataset = ['LGBTQ-character-demographics.csv']\n",
    "data = os.sep.join(data_path + dataset)\n",
    "# Import data\n",
    "df = pd.read_csv(data)"
   ]
  },
  {
   "cell_type": "code",
   "execution_count": 5,
   "id": "f04ec0ce",
   "metadata": {},
   "outputs": [
    {
     "name": "stdout",
     "output_type": "stream",
     "text": [
      "           show_title  confirmation_date  character_name  race  gender  \\\n",
      "ID                                                                       \n",
      "tt0096697           5                  5               5     0       5   \n",
      "tt0101178           2                  2               2     0       2   \n",
      "tt0108783           4                  4               4     2       4   \n",
      "tt0108937           1                  1               1     0       1   \n",
      "tt0115200           2                  2               2     2       2   \n",
      "...               ...                ...             ...   ...     ...   \n",
      "tt9140632           2                  2               2     2       2   \n",
      "tt9165454           1                  1               1     1       1   \n",
      "tt9184820           3                  3               3     2       3   \n",
      "tt9795876           1                  1               1     0       1   \n",
      "tt9811118           2                  2               2     1       2   \n",
      "\n",
      "           orientation  role  representation  \n",
      "ID                                            \n",
      "tt0096697            5     5               5  \n",
      "tt0101178            2     2               2  \n",
      "tt0108783            4     4               4  \n",
      "tt0108937            1     1               1  \n",
      "tt0115200            2     2               2  \n",
      "...                ...   ...             ...  \n",
      "tt9140632            2     2               2  \n",
      "tt9165454            1     1               1  \n",
      "tt9184820            3     3               3  \n",
      "tt9795876            1     1               1  \n",
      "tt9811118            2     2               2  \n",
      "\n",
      "[118 rows x 8 columns]\n"
     ]
    }
   ],
   "source": [
    "#get total number of occurances for each show ID\n",
    "total_characters = df.groupby(['ID']).count()\n",
    "\n",
    "print(total_characters)"
   ]
  },
  {
   "cell_type": "code",
   "execution_count": null,
   "id": "ff8001d1",
   "metadata": {},
   "outputs": [],
   "source": []
  }
 ],
 "metadata": {
  "kernelspec": {
   "display_name": "Python 3 (ipykernel)",
   "language": "python",
   "name": "python3"
  },
  "language_info": {
   "codemirror_mode": {
    "name": "ipython",
    "version": 3
   },
   "file_extension": ".py",
   "mimetype": "text/x-python",
   "name": "python",
   "nbconvert_exporter": "python",
   "pygments_lexer": "ipython3",
   "version": "3.9.12"
  }
 },
 "nbformat": 4,
 "nbformat_minor": 5
}
