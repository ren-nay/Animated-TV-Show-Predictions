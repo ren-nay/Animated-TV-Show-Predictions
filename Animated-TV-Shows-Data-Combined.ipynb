{
 "cells": [
  {
   "cell_type": "code",
   "execution_count": 1,
   "id": "5503e5cf",
   "metadata": {},
   "outputs": [],
   "source": [
    "from __future__ import print_function\n",
    "import os\n",
    "import pandas as pd\n",
    "\n",
    "#Set data sets path here\n",
    "data_path = ['data']\n",
    "\n",
    "# Import the data using the file path\n",
    "dataset = ['LGBTQ-character-demographics.csv']\n",
    "data = os.sep.join(data_path + dataset)\n",
    "# Import data\n",
    "df = pd.read_csv(data)"
   ]
  },
  {
   "cell_type": "code",
   "execution_count": 9,
   "id": "f04ec0ce",
   "metadata": {},
   "outputs": [
    {
     "data": {
      "text/plain": [
       "<bound method NDFrame.head of              ID                     show_title confirmation_date  \\\n",
       "0     tt7736544       3Below: Tales of Arcadia         7/12/2019   \n",
       "1     tt1305826                 Adventure Time         5/17/2010   \n",
       "2     tt1305826                 Adventure Time          4/5/2010   \n",
       "3     tt1305826                 Adventure Time         4/26/2010   \n",
       "4    tt11165358  Adventure Time: Distant Lands         6/25/2020   \n",
       "..          ...                            ...               ...   \n",
       "348   tt1641384                  Young Justice          6/2/2012   \n",
       "349   tt1641384                  Young Justice         5/26/2012   \n",
       "350   tt1641384                  Young Justice        11/26/2010   \n",
       "351   tt1641384                  Young Justice         1/25/2019   \n",
       "352   tt1641384                  Young Justice          1/4/2019   \n",
       "\n",
       "                  character_name   race      gender   orientation  \\\n",
       "0             Shannon Longhannon  White   Cis Woman       Lesbian   \n",
       "1             Princess Bubblegum    NaN   Cis Woman  Undetermined   \n",
       "2    Marceline the Vampire Queen    NaN   Cis Woman  Undetermined   \n",
       "3                            BMO    NaN     Agender  Undetermined   \n",
       "4                             Y5    NaN   Cis Woman     Ambiguous   \n",
       "..                           ...    ...         ...           ...   \n",
       "348                   Bart Allen  White     Cis Man           Gay   \n",
       "349                Ed Dorado Jr.    POC     Cis Man           Gay   \n",
       "350                  Marie Logan  White   Cis Woman       Lesbian   \n",
       "351                   Harper Row  White   Cis Woman      Bisexual   \n",
       "352                Violet Harper    POC  Non Binary  Undetermined   \n",
       "\n",
       "                    role representation  Total Occ  \n",
       "0    Recurring Character       Explicit          1  \n",
       "1    Recurring Character       Explicit          3  \n",
       "2    Recurring Character       Explicit          3  \n",
       "3    Recurring Character       Explicit          3  \n",
       "4    Recurring Character       Implicit          1  \n",
       "..                   ...            ...        ...  \n",
       "348  Recurring Character       Explicit          7  \n",
       "349  Recurring Character       Implicit          7  \n",
       "350      Guest Character       Implicit          7  \n",
       "351      Guest Character       Implicit          7  \n",
       "352  Recurring Character       Explicit          7  \n",
       "\n",
       "[353 rows x 10 columns]>"
      ]
     },
     "execution_count": 9,
     "metadata": {},
     "output_type": "execute_result"
    }
   ],
   "source": [
    "#get total number of occurances for each show ID\n",
    "df['Total Occ'] = df.groupby('ID').ID.transform('count')\n",
    "\n",
    "df.head"
   ]
  },
  {
   "cell_type": "code",
   "execution_count": 22,
   "id": "ff8001d1",
   "metadata": {},
   "outputs": [
    {
     "data": {
      "text/plain": [
       "<bound method NDFrame.head of              ID                     show_title  Total Occ\n",
       "0     tt7736544       3Below: Tales of Arcadia          1\n",
       "1     tt1305826                 Adventure Time          3\n",
       "2     tt1305826                 Adventure Time          3\n",
       "3     tt1305826                 Adventure Time          3\n",
       "4    tt11165358  Adventure Time: Distant Lands          1\n",
       "..          ...                            ...        ...\n",
       "348   tt1641384                  Young Justice          7\n",
       "349   tt1641384                  Young Justice          7\n",
       "350   tt1641384                  Young Justice          7\n",
       "351   tt1641384                  Young Justice          7\n",
       "352   tt1641384                  Young Justice          7\n",
       "\n",
       "[353 rows x 3 columns]>"
      ]
     },
     "execution_count": 22,
     "metadata": {},
     "output_type": "execute_result"
    }
   ],
   "source": [
    "#Only keep the id, show_title, and total occ columns\n",
    "df = df[[\"ID\", \"show_title\", \"Total Occ\"]]\n",
    "\n",
    "df.head"
   ]
  },
  {
   "cell_type": "code",
   "execution_count": 25,
   "id": "b51d4be2",
   "metadata": {},
   "outputs": [
    {
     "data": {
      "text/plain": [
       "<bound method NDFrame.head of              ID                     show_title  Total Occ\n",
       "0     tt7736544       3Below: Tales of Arcadia          1\n",
       "1     tt1305826                 Adventure Time          3\n",
       "4    tt11165358  Adventure Time: Distant Lands          1\n",
       "5     tt1790914                  Allen Gregory          2\n",
       "7     tt0397306                  American Dad!          3\n",
       "..          ...                            ...        ...\n",
       "335   tt8009622                 Twelve Forever          4\n",
       "339   tt8146766           Victor and Valentino          1\n",
       "340   tt5580664    Voltron: Legendary Defender          3\n",
       "343   tt0383718                     W.I.T.C.H.          3\n",
       "346   tt1641384                  Young Justice          7\n",
       "\n",
       "[118 rows x 3 columns]>"
      ]
     },
     "execution_count": 25,
     "metadata": {},
     "output_type": "execute_result"
    }
   ],
   "source": [
    "df.drop_duplicates()\n",
    "\n",
    "df.head"
   ]
  },
  {
   "cell_type": "code",
   "execution_count": null,
   "id": "2905decd",
   "metadata": {},
   "outputs": [],
   "source": []
  }
 ],
 "metadata": {
  "kernelspec": {
   "display_name": "Python 3 (ipykernel)",
   "language": "python",
   "name": "python3"
  },
  "language_info": {
   "codemirror_mode": {
    "name": "ipython",
    "version": 3
   },
   "file_extension": ".py",
   "mimetype": "text/x-python",
   "name": "python",
   "nbconvert_exporter": "python",
   "pygments_lexer": "ipython3",
   "version": "3.9.12"
  }
 },
 "nbformat": 4,
 "nbformat_minor": 5
}
