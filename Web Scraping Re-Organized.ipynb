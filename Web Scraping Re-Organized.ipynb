{
 "cells": [
  {
   "cell_type": "code",
   "execution_count": 1,
   "id": "de099024",
   "metadata": {},
   "outputs": [],
   "source": [
    "from bs4 import BeautifulSoup\n",
    "import requests\n",
    "import re\n",
    "import pandas as pd"
   ]
  },
  {
   "cell_type": "code",
   "execution_count": 2,
   "id": "4aa15080",
   "metadata": {},
   "outputs": [],
   "source": [
    "def getPageData(url):\n",
    "    response = requests.get(url)\n",
    "    soup = BeautifulSoup(response.text, \"html.parser\")\n",
    "    \n",
    "    #get Titles\n",
    "    titles = [a.text for a in soup.select('.lister-item-header')]\n",
    "    \n",
    "    #get unique IDs\n",
    "    uniqueId = [a.attrs.get('data-tconst') for a in soup.select('div.ribbonize')]\n",
    "    \n",
    "    #get IMDB Ratings\n",
    "    imdbRatings = []\n",
    "    for a in soup.select('div.lister-item'):\n",
    "        if a.find('strong'):\n",
    "            imdbRatings.append(a.find('strong').text)\n",
    "        else:\n",
    "            imdbRatings.append('N/A')\n",
    "    \n",
    "    #get start and end year of shows\n",
    "    runYears = [a.text for a in soup.select(\"span.lister-item-year.text-muted.unbold\")]\n",
    "\n",
    "    #get TV maturity rating\n",
    "    tvRatings = []\n",
    "    for a in soup.select('p.text-muted'):\n",
    "        if a.find('span'):\n",
    "            if a.find('span', class_='certificate'):\n",
    "                tvRatings.append(a.select('span.certificate')[0].text)\n",
    "            else:\n",
    "                tvRatings.append('N/A')\n",
    "                \n",
    "    #get runtime of episodes\n",
    "    runtimes= []          \n",
    "    \n",
    "    for a in soup.select('p.text-muted'):\n",
    "        if a.find('span'):\n",
    "            if a.find('span', class_='runtime'):\n",
    "                runtimes.append(a.select('span.runtime')[0].text)\n",
    "            else:\n",
    "                runtimes.append('N/A')\n",
    "    \n",
    "    #get genres of shows\n",
    "    genres = [a.text for a in soup.select(\"span.genre\")]"
   ]
  },
  {
   "cell_type": "code",
   "execution_count": 3,
   "id": "a1f1dd8c",
   "metadata": {},
   "outputs": [],
   "source": [
    "def formatPageData():\n",
    "    # create a empty list for storing\n",
    "    # movie information\n",
    "    list = []\n",
    "\n",
    "    # Iterating over movies to extract\n",
    "    # each movie's details\n",
    "    for index in range(0, len(titles)):\n",
    "\n",
    "        title_string = titles[index]\n",
    "        #\"\\n3.\\nDon't Hug Me I'm Scared\\n(2022– )\\n\",\n",
    "        show = title_string.split('\\n')\n",
    "        tv_show_title = show[2]\n",
    "\n",
    "        years = show[3].split('–')\n",
    "        startYear = years[0].strip('(')\n",
    "        endYear = years[-1].strip(')') #gets the last item in the list (for some reason just asking for years[1] was wrong?)\n",
    "\n",
    "        if \"min\" in runtimes[index]:\n",
    "            runtimes[index] = runtimes[index].strip(' min')\n",
    "\n",
    "        showGenres = genres[index].strip()\n",
    "        genreList = showGenres.split(',') #not sure what data format is best for the genres, we can have a string with all genres, or a list of all genres\n",
    "        genreList.pop(0) #gets rid of 'Animation' genre that is always first in the list\n",
    "\n",
    "        data = { \"TV Show Title\": tv_show_title,\n",
    "                \"Unique ID\": uniqueId[index],\n",
    "                \"IMDB Rating\": imdbRatings[index],\n",
    "                \"Start Year\": startYear,\n",
    "                \"End Year\": endYear,\n",
    "                \"TV Rating\": tvRatings[index],\n",
    "                \"Episode Run Time (min)\": runtimes[index],\n",
    "                \"Top Genres\": genreList,               \n",
    "                }\n",
    "\n",
    "        list.append(data)"
   ]
  },
  {
   "cell_type": "code",
   "execution_count": 4,
   "id": "d50f7ff7",
   "metadata": {},
   "outputs": [],
   "source": [
    "def appendCSV():\n",
    "    #saving the list as dataframe then converting into .csv file\n",
    "    df = pd.DataFrame(list)\n",
    "    \n",
    "    #append preexising csv file\n",
    "    df.to_csv('data/imdb_animated_shows.csv', mode='a', index=False, header=False)\n"
   ]
  },
  {
   "cell_type": "code",
   "execution_count": null,
   "id": "6c1300b1",
   "metadata": {},
   "outputs": [],
   "source": [
    "numberOfPages=45\n",
    "currentPage = 1\n",
    "url = \"https://www.imdb.com/search/title/?title_type=tv_series&release_date=1989-01-01,2022-12-31&genres=animation&count=250&ref_=adv_prv\"\n",
    "while currentPage <= numberOfPages:\n",
    "    print(url)\n",
    "    url = \"https://www.imdb.com/search/title/?title_type=tv_series&release_date=1989-01-01,2022-12-31&genres=animation&count=250&start=\" + str((250*currentPage)+1) + \"&ref_=adv_nxt\"\n",
    "    currentPage += 1\n"
   ]
  }
 ],
 "metadata": {
  "kernelspec": {
   "display_name": "Python 3 (ipykernel)",
   "language": "python",
   "name": "python3"
  },
  "language_info": {
   "codemirror_mode": {
    "name": "ipython",
    "version": 3
   },
   "file_extension": ".py",
   "mimetype": "text/x-python",
   "name": "python",
   "nbconvert_exporter": "python",
   "pygments_lexer": "ipython3",
   "version": "3.10.8"
  }
 },
 "nbformat": 4,
 "nbformat_minor": 5
}
